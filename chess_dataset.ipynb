{
  "cells": [
    {
      "cell_type": "markdown",
      "metadata": {
        "id": "view-in-github",
        "colab_type": "text"
      },
      "source": [
        "<a href=\"https://colab.research.google.com/github/pragathiyelagam05/AIML-batch16/blob/main/chess_dataset.ipynb\" target=\"_parent\"><img src=\"https://colab.research.google.com/assets/colab-badge.svg\" alt=\"Open In Colab\"/></a>"
      ]
    },
    {
      "cell_type": "code",
      "execution_count": 1,
      "id": "834858fb",
      "metadata": {
        "_cell_guid": "b1076dfc-b9ad-4769-8c92-a6c4dae69d19",
        "_uuid": "8f2839f25d086af736a60e9eeb907d3b93b6e0e5",
        "execution": {
          "iopub.execute_input": "2022-02-03T20:05:31.480033Z",
          "iopub.status.busy": "2022-02-03T20:05:31.478771Z",
          "iopub.status.idle": "2022-02-03T20:05:32.685425Z",
          "shell.execute_reply": "2022-02-03T20:05:32.684477Z",
          "shell.execute_reply.started": "2022-02-03T20:04:45.094936Z"
        },
        "papermill": {
          "duration": 1.228539,
          "end_time": "2022-02-03T20:05:32.685617",
          "exception": false,
          "start_time": "2022-02-03T20:05:31.457078",
          "status": "completed"
        },
        "tags": [],
        "id": "834858fb"
      },
      "outputs": [],
      "source": [
        "import numpy as np #linear algebra\n",
        "import pandas as pd #data processing, CSV file I/O (e.g. pd.read_csv)\n",
        "import seaborn as sns #data visualization\n",
        "import matplotlib.pyplot as plt\n",
        "from collections import Counter"
      ]
    },
    {
      "cell_type": "code",
      "execution_count": null,
      "id": "fce92280",
      "metadata": {
        "execution": {
          "iopub.execute_input": "2022-02-03T20:05:32.723981Z",
          "iopub.status.busy": "2022-02-03T20:05:32.720653Z",
          "iopub.status.idle": "2022-02-03T20:05:32.792438Z",
          "shell.execute_reply": "2022-02-03T20:05:32.793076Z",
          "shell.execute_reply.started": "2022-02-03T20:04:45.101868Z"
        },
        "papermill": {
          "duration": 0.091355,
          "end_time": "2022-02-03T20:05:32.793300",
          "exception": false,
          "start_time": "2022-02-03T20:05:32.701945",
          "status": "completed"
        },
        "tags": [],
        "id": "fce92280"
      },
      "outputs": [],
      "source": [
        "#import csv\n",
        "chess = pd.read_csv('../input/lichess-chess-games-statistics/Chess games stats.csv')"
      ]
    },
    {
      "cell_type": "code",
      "execution_count": null,
      "id": "ec524a31",
      "metadata": {
        "execution": {
          "iopub.execute_input": "2022-02-03T20:05:32.829469Z",
          "iopub.status.busy": "2022-02-03T20:05:32.828653Z",
          "iopub.status.idle": "2022-02-03T20:05:32.833167Z",
          "shell.execute_reply": "2022-02-03T20:05:32.833655Z",
          "shell.execute_reply.started": "2022-02-03T20:04:45.152241Z"
        },
        "papermill": {
          "duration": 0.024639,
          "end_time": "2022-02-03T20:05:32.833891",
          "exception": false,
          "start_time": "2022-02-03T20:05:32.809252",
          "status": "completed"
        },
        "tags": [],
        "id": "ec524a31",
        "outputId": "d0a5117d-3142-4de6-eaf3-0f31c5e9e25e"
      },
      "outputs": [
        {
          "name": "stdout",
          "output_type": "stream",
          "text": [
            "(18637, 14)\n"
          ]
        }
      ],
      "source": [
        "print(chess.shape)"
      ]
    },
    {
      "cell_type": "code",
      "execution_count": null,
      "id": "e07bdbb5",
      "metadata": {
        "execution": {
          "iopub.execute_input": "2022-02-03T20:05:32.869971Z",
          "iopub.status.busy": "2022-02-03T20:05:32.868923Z",
          "iopub.status.idle": "2022-02-03T20:05:32.945378Z",
          "shell.execute_reply": "2022-02-03T20:05:32.945955Z",
          "shell.execute_reply.started": "2022-02-03T20:04:45.159727Z"
        },
        "papermill": {
          "duration": 0.096195,
          "end_time": "2022-02-03T20:05:32.946163",
          "exception": false,
          "start_time": "2022-02-03T20:05:32.849968",
          "status": "completed"
        },
        "tags": [],
        "id": "e07bdbb5",
        "outputId": "94ee46ff-286f-45b7-e0fe-00817d69c468"
      },
      "outputs": [
        {
          "data": {
            "text/html": [
              "<div>\n",
              "<style scoped>\n",
              "    .dataframe tbody tr th:only-of-type {\n",
              "        vertical-align: middle;\n",
              "    }\n",
              "\n",
              "    .dataframe tbody tr th {\n",
              "        vertical-align: top;\n",
              "    }\n",
              "\n",
              "    .dataframe thead th {\n",
              "        text-align: right;\n",
              "    }\n",
              "</style>\n",
              "<table border=\"1\" class=\"dataframe\">\n",
              "  <thead>\n",
              "    <tr style=\"text-align: right;\">\n",
              "      <th></th>\n",
              "      <th>Unnamed: 0</th>\n",
              "      <th>White Rating</th>\n",
              "      <th>Black Rating</th>\n",
              "      <th>Opening Ply</th>\n",
              "      <th>White Centi-pawn Loss</th>\n",
              "      <th>White's Number of Inaccuracies</th>\n",
              "      <th>White's Number of Mistakes</th>\n",
              "      <th>White's Number of Blunders</th>\n",
              "      <th>Black Centi-pawn Loss</th>\n",
              "      <th>Black's Number of Inaccuracies</th>\n",
              "      <th>Black's Number of Mistakes</th>\n",
              "      <th>Black's Number of Blunders</th>\n",
              "    </tr>\n",
              "  </thead>\n",
              "  <tbody>\n",
              "    <tr>\n",
              "      <th>count</th>\n",
              "      <td>18637.000000</td>\n",
              "      <td>18637.000000</td>\n",
              "      <td>18637.000000</td>\n",
              "      <td>18637.000000</td>\n",
              "      <td>18637.000000</td>\n",
              "      <td>18637.000000</td>\n",
              "      <td>18637.000000</td>\n",
              "      <td>18637.000000</td>\n",
              "      <td>18637.000000</td>\n",
              "      <td>18637.000000</td>\n",
              "      <td>18637.000000</td>\n",
              "      <td>18637.000000</td>\n",
              "    </tr>\n",
              "    <tr>\n",
              "      <th>mean</th>\n",
              "      <td>9318.000000</td>\n",
              "      <td>1774.528519</td>\n",
              "      <td>1776.729678</td>\n",
              "      <td>5.319043</td>\n",
              "      <td>58.814294</td>\n",
              "      <td>3.258947</td>\n",
              "      <td>1.325643</td>\n",
              "      <td>2.115738</td>\n",
              "      <td>60.778451</td>\n",
              "      <td>3.283254</td>\n",
              "      <td>1.332242</td>\n",
              "      <td>2.118206</td>\n",
              "    </tr>\n",
              "    <tr>\n",
              "      <th>std</th>\n",
              "      <td>5380.182819</td>\n",
              "      <td>314.840181</td>\n",
              "      <td>317.424527</td>\n",
              "      <td>3.058254</td>\n",
              "      <td>36.622111</td>\n",
              "      <td>2.404746</td>\n",
              "      <td>1.390271</td>\n",
              "      <td>2.078614</td>\n",
              "      <td>38.316602</td>\n",
              "      <td>2.420974</td>\n",
              "      <td>1.383967</td>\n",
              "      <td>2.094702</td>\n",
              "    </tr>\n",
              "    <tr>\n",
              "      <th>min</th>\n",
              "      <td>0.000000</td>\n",
              "      <td>784.000000</td>\n",
              "      <td>780.000000</td>\n",
              "      <td>1.000000</td>\n",
              "      <td>0.000000</td>\n",
              "      <td>0.000000</td>\n",
              "      <td>0.000000</td>\n",
              "      <td>0.000000</td>\n",
              "      <td>0.000000</td>\n",
              "      <td>0.000000</td>\n",
              "      <td>0.000000</td>\n",
              "      <td>0.000000</td>\n",
              "    </tr>\n",
              "    <tr>\n",
              "      <th>25%</th>\n",
              "      <td>4659.000000</td>\n",
              "      <td>1551.000000</td>\n",
              "      <td>1552.000000</td>\n",
              "      <td>3.000000</td>\n",
              "      <td>33.000000</td>\n",
              "      <td>1.000000</td>\n",
              "      <td>0.000000</td>\n",
              "      <td>1.000000</td>\n",
              "      <td>33.000000</td>\n",
              "      <td>1.000000</td>\n",
              "      <td>0.000000</td>\n",
              "      <td>1.000000</td>\n",
              "    </tr>\n",
              "    <tr>\n",
              "      <th>50%</th>\n",
              "      <td>9318.000000</td>\n",
              "      <td>1782.000000</td>\n",
              "      <td>1781.000000</td>\n",
              "      <td>5.000000</td>\n",
              "      <td>53.000000</td>\n",
              "      <td>3.000000</td>\n",
              "      <td>1.000000</td>\n",
              "      <td>2.000000</td>\n",
              "      <td>55.000000</td>\n",
              "      <td>3.000000</td>\n",
              "      <td>1.000000</td>\n",
              "      <td>2.000000</td>\n",
              "    </tr>\n",
              "    <tr>\n",
              "      <th>75%</th>\n",
              "      <td>13977.000000</td>\n",
              "      <td>1991.000000</td>\n",
              "      <td>1996.000000</td>\n",
              "      <td>7.000000</td>\n",
              "      <td>77.000000</td>\n",
              "      <td>5.000000</td>\n",
              "      <td>2.000000</td>\n",
              "      <td>3.000000</td>\n",
              "      <td>80.000000</td>\n",
              "      <td>5.000000</td>\n",
              "      <td>2.000000</td>\n",
              "      <td>3.000000</td>\n",
              "    </tr>\n",
              "    <tr>\n",
              "      <th>max</th>\n",
              "      <td>18636.000000</td>\n",
              "      <td>2997.000000</td>\n",
              "      <td>2995.000000</td>\n",
              "      <td>28.000000</td>\n",
              "      <td>517.000000</td>\n",
              "      <td>19.000000</td>\n",
              "      <td>12.000000</td>\n",
              "      <td>18.000000</td>\n",
              "      <td>550.000000</td>\n",
              "      <td>22.000000</td>\n",
              "      <td>12.000000</td>\n",
              "      <td>22.000000</td>\n",
              "    </tr>\n",
              "  </tbody>\n",
              "</table>\n",
              "</div>"
            ],
            "text/plain": [
              "         Unnamed: 0  White Rating  Black Rating   Opening Ply  \\\n",
              "count  18637.000000  18637.000000  18637.000000  18637.000000   \n",
              "mean    9318.000000   1774.528519   1776.729678      5.319043   \n",
              "std     5380.182819    314.840181    317.424527      3.058254   \n",
              "min        0.000000    784.000000    780.000000      1.000000   \n",
              "25%     4659.000000   1551.000000   1552.000000      3.000000   \n",
              "50%     9318.000000   1782.000000   1781.000000      5.000000   \n",
              "75%    13977.000000   1991.000000   1996.000000      7.000000   \n",
              "max    18636.000000   2997.000000   2995.000000     28.000000   \n",
              "\n",
              "       White Centi-pawn Loss  White's Number of Inaccuracies  \\\n",
              "count           18637.000000                    18637.000000   \n",
              "mean               58.814294                        3.258947   \n",
              "std                36.622111                        2.404746   \n",
              "min                 0.000000                        0.000000   \n",
              "25%                33.000000                        1.000000   \n",
              "50%                53.000000                        3.000000   \n",
              "75%                77.000000                        5.000000   \n",
              "max               517.000000                       19.000000   \n",
              "\n",
              "       White's Number of Mistakes  White's Number of Blunders  \\\n",
              "count                18637.000000                18637.000000   \n",
              "mean                     1.325643                    2.115738   \n",
              "std                      1.390271                    2.078614   \n",
              "min                      0.000000                    0.000000   \n",
              "25%                      0.000000                    1.000000   \n",
              "50%                      1.000000                    2.000000   \n",
              "75%                      2.000000                    3.000000   \n",
              "max                     12.000000                   18.000000   \n",
              "\n",
              "       Black Centi-pawn Loss  Black's Number of Inaccuracies  \\\n",
              "count           18637.000000                    18637.000000   \n",
              "mean               60.778451                        3.283254   \n",
              "std                38.316602                        2.420974   \n",
              "min                 0.000000                        0.000000   \n",
              "25%                33.000000                        1.000000   \n",
              "50%                55.000000                        3.000000   \n",
              "75%                80.000000                        5.000000   \n",
              "max               550.000000                       22.000000   \n",
              "\n",
              "       Black's Number of Mistakes  Black's Number of Blunders  \n",
              "count                18637.000000                18637.000000  \n",
              "mean                     1.332242                    2.118206  \n",
              "std                      1.383967                    2.094702  \n",
              "min                      0.000000                    0.000000  \n",
              "25%                      0.000000                    1.000000  \n",
              "50%                      1.000000                    2.000000  \n",
              "75%                      2.000000                    3.000000  \n",
              "max                     12.000000                   22.000000  "
            ]
          },
          "execution_count": 4,
          "metadata": {},
          "output_type": "execute_result"
        }
      ],
      "source": [
        "chess.describe()"
      ]
    },
    {
      "cell_type": "code",
      "execution_count": null,
      "id": "9207a49d",
      "metadata": {
        "execution": {
          "iopub.execute_input": "2022-02-03T20:05:32.984341Z",
          "iopub.status.busy": "2022-02-03T20:05:32.983566Z",
          "iopub.status.idle": "2022-02-03T20:05:32.998084Z",
          "shell.execute_reply": "2022-02-03T20:05:32.998662Z",
          "shell.execute_reply.started": "2022-02-03T20:04:45.216138Z"
        },
        "papermill": {
          "duration": 0.035703,
          "end_time": "2022-02-03T20:05:32.998882",
          "exception": false,
          "start_time": "2022-02-03T20:05:32.963179",
          "status": "completed"
        },
        "tags": [],
        "id": "9207a49d",
        "outputId": "555eec50-82fc-45cc-9200-4778d46afb3e"
      },
      "outputs": [
        {
          "data": {
            "text/html": [
              "<div>\n",
              "<style scoped>\n",
              "    .dataframe tbody tr th:only-of-type {\n",
              "        vertical-align: middle;\n",
              "    }\n",
              "\n",
              "    .dataframe tbody tr th {\n",
              "        vertical-align: top;\n",
              "    }\n",
              "\n",
              "    .dataframe thead th {\n",
              "        text-align: right;\n",
              "    }\n",
              "</style>\n",
              "<table border=\"1\" class=\"dataframe\">\n",
              "  <thead>\n",
              "    <tr style=\"text-align: right;\">\n",
              "      <th></th>\n",
              "      <th>Unnamed: 0</th>\n",
              "      <th>Game ID</th>\n",
              "      <th>White Rating</th>\n",
              "      <th>Black Rating</th>\n",
              "      <th>Opening ECO</th>\n",
              "      <th>Opening Ply</th>\n",
              "      <th>White Centi-pawn Loss</th>\n",
              "      <th>White's Number of Inaccuracies</th>\n",
              "      <th>White's Number of Mistakes</th>\n",
              "      <th>White's Number of Blunders</th>\n",
              "      <th>Black Centi-pawn Loss</th>\n",
              "      <th>Black's Number of Inaccuracies</th>\n",
              "      <th>Black's Number of Mistakes</th>\n",
              "      <th>Black's Number of Blunders</th>\n",
              "    </tr>\n",
              "  </thead>\n",
              "  <tbody>\n",
              "    <tr>\n",
              "      <th>0</th>\n",
              "      <td>0</td>\n",
              "      <td>J7Xvjkte</td>\n",
              "      <td>1441</td>\n",
              "      <td>1559</td>\n",
              "      <td>C20</td>\n",
              "      <td>4</td>\n",
              "      <td>32</td>\n",
              "      <td>2</td>\n",
              "      <td>2</td>\n",
              "      <td>0</td>\n",
              "      <td>87</td>\n",
              "      <td>2</td>\n",
              "      <td>4</td>\n",
              "      <td>1</td>\n",
              "    </tr>\n",
              "    <tr>\n",
              "      <th>1</th>\n",
              "      <td>1</td>\n",
              "      <td>SSzpi7W1</td>\n",
              "      <td>1258</td>\n",
              "      <td>1567</td>\n",
              "      <td>C46</td>\n",
              "      <td>6</td>\n",
              "      <td>43</td>\n",
              "      <td>0</td>\n",
              "      <td>0</td>\n",
              "      <td>1</td>\n",
              "      <td>6</td>\n",
              "      <td>0</td>\n",
              "      <td>0</td>\n",
              "      <td>0</td>\n",
              "    </tr>\n",
              "    <tr>\n",
              "      <th>2</th>\n",
              "      <td>2</td>\n",
              "      <td>NHpcYm3r</td>\n",
              "      <td>1697</td>\n",
              "      <td>1712</td>\n",
              "      <td>C68</td>\n",
              "      <td>7</td>\n",
              "      <td>11</td>\n",
              "      <td>1</td>\n",
              "      <td>0</td>\n",
              "      <td>0</td>\n",
              "      <td>42</td>\n",
              "      <td>1</td>\n",
              "      <td>0</td>\n",
              "      <td>2</td>\n",
              "    </tr>\n",
              "    <tr>\n",
              "      <th>3</th>\n",
              "      <td>3</td>\n",
              "      <td>Nrzmgzmn</td>\n",
              "      <td>1978</td>\n",
              "      <td>1868</td>\n",
              "      <td>D31</td>\n",
              "      <td>5</td>\n",
              "      <td>21</td>\n",
              "      <td>3</td>\n",
              "      <td>0</td>\n",
              "      <td>0</td>\n",
              "      <td>53</td>\n",
              "      <td>6</td>\n",
              "      <td>0</td>\n",
              "      <td>1</td>\n",
              "    </tr>\n",
              "    <tr>\n",
              "      <th>4</th>\n",
              "      <td>4</td>\n",
              "      <td>xMuFsnC6</td>\n",
              "      <td>2073</td>\n",
              "      <td>1816</td>\n",
              "      <td>A01</td>\n",
              "      <td>2</td>\n",
              "      <td>35</td>\n",
              "      <td>3</td>\n",
              "      <td>2</td>\n",
              "      <td>0</td>\n",
              "      <td>50</td>\n",
              "      <td>6</td>\n",
              "      <td>3</td>\n",
              "      <td>0</td>\n",
              "    </tr>\n",
              "  </tbody>\n",
              "</table>\n",
              "</div>"
            ],
            "text/plain": [
              "   Unnamed: 0   Game ID  White Rating  Black Rating Opening ECO  Opening Ply  \\\n",
              "0           0  J7Xvjkte          1441          1559         C20            4   \n",
              "1           1  SSzpi7W1          1258          1567         C46            6   \n",
              "2           2  NHpcYm3r          1697          1712         C68            7   \n",
              "3           3  Nrzmgzmn          1978          1868         D31            5   \n",
              "4           4  xMuFsnC6          2073          1816         A01            2   \n",
              "\n",
              "   White Centi-pawn Loss  White's Number of Inaccuracies  \\\n",
              "0                     32                               2   \n",
              "1                     43                               0   \n",
              "2                     11                               1   \n",
              "3                     21                               3   \n",
              "4                     35                               3   \n",
              "\n",
              "   White's Number of Mistakes  White's Number of Blunders  \\\n",
              "0                           2                           0   \n",
              "1                           0                           1   \n",
              "2                           0                           0   \n",
              "3                           0                           0   \n",
              "4                           2                           0   \n",
              "\n",
              "   Black Centi-pawn Loss  Black's Number of Inaccuracies  \\\n",
              "0                     87                               2   \n",
              "1                      6                               0   \n",
              "2                     42                               1   \n",
              "3                     53                               6   \n",
              "4                     50                               6   \n",
              "\n",
              "   Black's Number of Mistakes  Black's Number of Blunders  \n",
              "0                           4                           1  \n",
              "1                           0                           0  \n",
              "2                           0                           2  \n",
              "3                           0                           1  \n",
              "4                           3                           0  "
            ]
          },
          "execution_count": 5,
          "metadata": {},
          "output_type": "execute_result"
        }
      ],
      "source": [
        "chess.head()"
      ]
    },
    {
      "cell_type": "code",
      "execution_count": null,
      "id": "b9145a69",
      "metadata": {
        "execution": {
          "iopub.execute_input": "2022-02-03T20:05:33.038770Z",
          "iopub.status.busy": "2022-02-03T20:05:33.038071Z",
          "iopub.status.idle": "2022-02-03T20:05:33.059706Z",
          "shell.execute_reply": "2022-02-03T20:05:33.060259Z",
          "shell.execute_reply.started": "2022-02-03T20:04:45.232008Z"
        },
        "papermill": {
          "duration": 0.043626,
          "end_time": "2022-02-03T20:05:33.060473",
          "exception": false,
          "start_time": "2022-02-03T20:05:33.016847",
          "status": "completed"
        },
        "tags": [],
        "id": "b9145a69",
        "outputId": "9bcbccfb-8f80-4424-e006-f7ff4866ef2c"
      },
      "outputs": [
        {
          "name": "stdout",
          "output_type": "stream",
          "text": [
            "<class 'pandas.core.frame.DataFrame'>\n",
            "RangeIndex: 18637 entries, 0 to 18636\n",
            "Data columns (total 14 columns):\n",
            " #   Column                          Non-Null Count  Dtype \n",
            "---  ------                          --------------  ----- \n",
            " 0   Unnamed: 0                      18637 non-null  int64 \n",
            " 1   Game ID                         18637 non-null  object\n",
            " 2   White Rating                    18637 non-null  int64 \n",
            " 3   Black Rating                    18637 non-null  int64 \n",
            " 4   Opening ECO                     18637 non-null  object\n",
            " 5   Opening Ply                     18637 non-null  int64 \n",
            " 6   White Centi-pawn Loss           18637 non-null  int64 \n",
            " 7   White's Number of Inaccuracies  18637 non-null  int64 \n",
            " 8   White's Number of Mistakes      18637 non-null  int64 \n",
            " 9   White's Number of Blunders      18637 non-null  int64 \n",
            " 10  Black Centi-pawn Loss           18637 non-null  int64 \n",
            " 11  Black's Number of Inaccuracies  18637 non-null  int64 \n",
            " 12  Black's Number of Mistakes      18637 non-null  int64 \n",
            " 13  Black's Number of Blunders      18637 non-null  int64 \n",
            "dtypes: int64(12), object(2)\n",
            "memory usage: 2.0+ MB\n"
          ]
        }
      ],
      "source": [
        "chess.info()"
      ]
    },
    {
      "cell_type": "code",
      "execution_count": null,
      "id": "689d561a",
      "metadata": {
        "execution": {
          "iopub.execute_input": "2022-02-03T20:05:33.105711Z",
          "iopub.status.busy": "2022-02-03T20:05:33.098079Z",
          "iopub.status.idle": "2022-02-03T20:05:33.113178Z",
          "shell.execute_reply": "2022-02-03T20:05:33.112536Z",
          "shell.execute_reply.started": "2022-02-03T20:04:45.258380Z"
        },
        "papermill": {
          "duration": 0.035391,
          "end_time": "2022-02-03T20:05:33.113342",
          "exception": false,
          "start_time": "2022-02-03T20:05:33.077951",
          "status": "completed"
        },
        "tags": [],
        "id": "689d561a",
        "outputId": "28a4112c-4e75-40a7-eb7e-bb30faa1dd01"
      },
      "outputs": [
        {
          "data": {
            "text/plain": [
              "Unnamed: 0                        0\n",
              "Game ID                           0\n",
              "White Rating                      0\n",
              "Black Rating                      0\n",
              "Opening ECO                       0\n",
              "Opening Ply                       0\n",
              "White Centi-pawn Loss             0\n",
              "White's Number of Inaccuracies    0\n",
              "White's Number of Mistakes        0\n",
              "White's Number of Blunders        0\n",
              "Black Centi-pawn Loss             0\n",
              "Black's Number of Inaccuracies    0\n",
              "Black's Number of Mistakes        0\n",
              "Black's Number of Blunders        0\n",
              "dtype: int64"
            ]
          },
          "execution_count": 7,
          "metadata": {},
          "output_type": "execute_result"
        }
      ],
      "source": [
        "#check for null values\n",
        "chess.isna().sum()"
      ]
    },
    {
      "cell_type": "code",
      "execution_count": null,
      "id": "de4fb92e",
      "metadata": {
        "execution": {
          "iopub.execute_input": "2022-02-03T20:05:33.152831Z",
          "iopub.status.busy": "2022-02-03T20:05:33.152094Z",
          "iopub.status.idle": "2022-02-03T20:05:33.989736Z",
          "shell.execute_reply": "2022-02-03T20:05:33.989044Z",
          "shell.execute_reply.started": "2022-02-03T20:04:45.272768Z"
        },
        "papermill": {
          "duration": 0.858815,
          "end_time": "2022-02-03T20:05:33.989911",
          "exception": false,
          "start_time": "2022-02-03T20:05:33.131096",
          "status": "completed"
        },
        "tags": [],
        "id": "de4fb92e",
        "outputId": "4d873214-b233-463f-998f-d80c6221ecba"
      },
      "outputs": [
        {
          "data": {
            "image/png": "[encoded data removed]",
            "text/plain": [
              "<Figure size 1080x576 with 2 Axes>"
            ]
          },
          "metadata": {},
          "output_type": "display_data"
        }
      ],
      "source": [
        "#plot distribution of white and black ratings\n",
        "#spike at 1500 is because all players start at 1500 rating\n",
        "\n",
        "sns.set(rc = {'figure.figsize':(15,8)})\n",
        "fig, ax=plt.subplots(1,2)\n",
        "sns.histplot(chess, x=\"White Rating\", ax=ax[0])\n",
        "sns.histplot(chess, x=\"Black Rating\", ax=ax[1])\n",
        "fig.show()\n",
        "\n",
        "#plt.axvline(chess['White Rating'].mean(), color='r', linestyle='--', label=\"Mean\")"
      ]
    },
    {
      "cell_type": "code",
      "execution_count": null,
      "id": "5b823d09",
      "metadata": {
        "execution": {
          "iopub.execute_input": "2022-02-03T20:05:34.040750Z",
          "iopub.status.busy": "2022-02-03T20:05:34.037455Z",
          "iopub.status.idle": "2022-02-03T20:05:34.456820Z",
          "shell.execute_reply": "2022-02-03T20:05:34.456174Z",
          "shell.execute_reply.started": "2022-02-03T20:04:52.174118Z"
        },
        "papermill": {
          "duration": 0.448248,
          "end_time": "2022-02-03T20:05:34.457018",
          "exception": false,
          "start_time": "2022-02-03T20:05:34.008770",
          "status": "completed"
        },
        "tags": [],
        "id": "5b823d09",
        "outputId": "7469f688-48b6-48d6-e7b0-1afc2be74c55"
      },
      "outputs": [
        {
          "name": "stderr",
          "output_type": "stream",
          "text": [
            "/opt/conda/lib/python3.7/site-packages/seaborn/_decorators.py:43: FutureWarning: Pass the following variable as a keyword arg: x. From version 0.12, the only valid positional argument will be `data`, and passing other arguments without an explicit keyword will result in an error or misinterpretation.\n",
            "  FutureWarning\n"
          ]
        },
        {
          "data": {
            "text/plain": [
              "<AxesSubplot:xlabel='Opening ECO', ylabel='count'>"
            ]
          },
          "execution_count": 9,
          "metadata": {},
          "output_type": "execute_result"
        },
        {
          "data": {
            "image/png": "[encoded data removed]",
            "text/plain": [
              "<Figure size 1080x576 with 1 Axes>"
            ]
          },
          "metadata": {},
          "output_type": "display_data"
        }
      ],
      "source": [
        "#Trying to graph most common openings\n",
        "count = Counter(chess['Opening ECO'])\n",
        "\n",
        "chess['Opening ECO'].value_counts().iloc[:20]\n",
        "#common_openings = chess['Opening ECO']\n",
        "#count.most_common()[:20].index\n",
        "#chess.value_counts('Opening ECO').iloc[:10]\n",
        "\n",
        "#Ordered top 20 opening by ECO code\n",
        "sns.countplot(chess['Opening ECO'], order=chess['Opening ECO'].value_counts().iloc[:20].index)"
      ]
    },
    {
      "cell_type": "code",
      "execution_count": null,
      "id": "c3d69b2a",
      "metadata": {
        "execution": {
          "iopub.execute_input": "2022-02-03T20:05:34.509196Z",
          "iopub.status.busy": "2022-02-03T20:05:34.508292Z",
          "iopub.status.idle": "2022-02-03T20:05:34.511643Z",
          "shell.execute_reply": "2022-02-03T20:05:34.512176Z",
          "shell.execute_reply.started": "2022-02-03T20:04:46.422925Z"
        },
        "papermill": {
          "duration": 0.03246,
          "end_time": "2022-02-03T20:05:34.512372",
          "exception": false,
          "start_time": "2022-02-03T20:05:34.479912",
          "status": "completed"
        },
        "tags": [],
        "id": "c3d69b2a",
        "outputId": "3b88b6df-9a4d-462e-9607-7be192379289"
      },
      "outputs": [
        {
          "name": "stdout",
          "output_type": "stream",
          "text": [
            "58.81429414605355\n",
            "60.77845146751086\n"
          ]
        }
      ],
      "source": [
        "#6.0 pawns = 600 centipawns\n",
        "#Average Centipawn loss = the average loss incurred by each bad move\n",
        "#Lower us better\n",
        "#20 is pretty good, 70 is pretty bad, usually between 0-100\n",
        "\n",
        "avg_white_cl = chess['White Centi-pawn Loss'].mean()\n",
        "avg_black_cl = chess['Black Centi-pawn Loss'].mean()\n",
        "\n",
        "print(avg_white_cl)\n",
        "print(avg_black_cl)"
      ]
    },
    {
      "cell_type": "code",
      "execution_count": null,
      "id": "5117295b",
      "metadata": {
        "execution": {
          "iopub.execute_input": "2022-02-03T20:05:34.563394Z",
          "iopub.status.busy": "2022-02-03T20:05:34.562293Z",
          "iopub.status.idle": "2022-02-03T20:05:34.573213Z",
          "shell.execute_reply": "2022-02-03T20:05:34.572515Z",
          "shell.execute_reply.started": "2022-02-03T20:04:46.431448Z"
        },
        "papermill": {
          "duration": 0.040135,
          "end_time": "2022-02-03T20:05:34.573369",
          "exception": false,
          "start_time": "2022-02-03T20:05:34.533234",
          "status": "completed"
        },
        "tags": [],
        "id": "5117295b",
        "outputId": "023b6e40-f5b4-4215-e573-1bb811bb0326"
      },
      "outputs": [
        {
          "name": "stdout",
          "output_type": "stream",
          "text": [
            "75.33236994219654\n",
            "58.62548225308642\n",
            "45.16647994622451\n"
          ]
        }
      ],
      "source": [
        "#White slightly lower centipawn loss for whole general population, lets see for separate groups\n",
        "#0-1500,1500-2000,2000+\n",
        "\n",
        "low_rating_white = chess[chess['White Rating'] <= 1500]\n",
        "mid_rating_white = chess[(chess['White Rating'] > 1500) & (chess['White Rating'] <= 2000)]\n",
        "high_rating_white = chess[chess['White Rating'] > 2000]\n",
        "\n",
        "avg_white_low = low_rating_white['White Centi-pawn Loss'].mean()\n",
        "avg_white_mid = mid_rating_white['White Centi-pawn Loss'].mean()\n",
        "avg_white_high = high_rating_white['White Centi-pawn Loss'].mean()\n",
        "\n",
        "print(avg_white_low)\n",
        "print(avg_white_mid)\n",
        "print(avg_white_high)"
      ]
    },
    {
      "cell_type": "code",
      "execution_count": null,
      "id": "3519be95",
      "metadata": {
        "execution": {
          "iopub.execute_input": "2022-02-03T20:05:34.620976Z",
          "iopub.status.busy": "2022-02-03T20:05:34.619776Z",
          "iopub.status.idle": "2022-02-03T20:05:34.634726Z",
          "shell.execute_reply": "2022-02-03T20:05:34.635337Z",
          "shell.execute_reply.started": "2022-02-03T20:04:46.449177Z"
        },
        "papermill": {
          "duration": 0.040654,
          "end_time": "2022-02-03T20:05:34.635562",
          "exception": false,
          "start_time": "2022-02-03T20:05:34.594908",
          "status": "completed"
        },
        "tags": [],
        "id": "3519be95",
        "outputId": "5767ca2e-12fa-41f2-e5f1-3110c472ed74"
      },
      "outputs": [
        {
          "name": "stdout",
          "output_type": "stream",
          "text": [
            "78.03728186144897\n",
            "60.85455783636541\n",
            "46.34331293706294\n"
          ]
        }
      ],
      "source": [
        "low_rating_black = chess[chess['Black Rating'] <= 1500]\n",
        "mid_rating_black = chess[(chess['Black Rating'] > 1500) & (chess['Black Rating'] <= 2000)]\n",
        "high_rating_black = chess[chess['Black Rating'] > 2000]\n",
        "\n",
        "avg_black_low = low_rating_black['Black Centi-pawn Loss'].mean()\n",
        "avg_black_mid = mid_rating_black['Black Centi-pawn Loss'].mean()\n",
        "avg_black_high = high_rating_black['Black Centi-pawn Loss'].mean()\n",
        "\n",
        "print(avg_black_low)\n",
        "print(avg_black_mid)\n",
        "print(avg_black_high)"
      ]
    },
    {
      "cell_type": "code",
      "execution_count": null,
      "id": "64c91fbe",
      "metadata": {
        "execution": {
          "iopub.execute_input": "2022-02-03T20:05:34.682943Z",
          "iopub.status.busy": "2022-02-03T20:05:34.682175Z",
          "iopub.status.idle": "2022-02-03T20:05:34.696482Z",
          "shell.execute_reply": "2022-02-03T20:05:34.697056Z",
          "shell.execute_reply.started": "2022-02-03T20:04:46.464121Z"
        },
        "papermill": {
          "duration": 0.040233,
          "end_time": "2022-02-03T20:05:34.697262",
          "exception": false,
          "start_time": "2022-02-03T20:05:34.657029",
          "status": "completed"
        },
        "tags": [],
        "id": "64c91fbe",
        "outputId": "b0f47675-0722-43de-b748-2241edf22f0d"
      },
      "outputs": [
        {
          "data": {
            "text/html": [
              "<div>\n",
              "<style scoped>\n",
              "    .dataframe tbody tr th:only-of-type {\n",
              "        vertical-align: middle;\n",
              "    }\n",
              "\n",
              "    .dataframe tbody tr th {\n",
              "        vertical-align: top;\n",
              "    }\n",
              "\n",
              "    .dataframe thead th {\n",
              "        text-align: right;\n",
              "    }\n",
              "</style>\n",
              "<table border=\"1\" class=\"dataframe\">\n",
              "  <thead>\n",
              "    <tr style=\"text-align: right;\">\n",
              "      <th></th>\n",
              "      <th>Centipawn Loss</th>\n",
              "      <th>Color</th>\n",
              "      <th>Tier</th>\n",
              "    </tr>\n",
              "  </thead>\n",
              "  <tbody>\n",
              "    <tr>\n",
              "      <th>0</th>\n",
              "      <td>75.332370</td>\n",
              "      <td>White</td>\n",
              "      <td>Low</td>\n",
              "    </tr>\n",
              "    <tr>\n",
              "      <th>1</th>\n",
              "      <td>58.625482</td>\n",
              "      <td>White</td>\n",
              "      <td>Mid</td>\n",
              "    </tr>\n",
              "    <tr>\n",
              "      <th>2</th>\n",
              "      <td>45.166480</td>\n",
              "      <td>White</td>\n",
              "      <td>High</td>\n",
              "    </tr>\n",
              "    <tr>\n",
              "      <th>3</th>\n",
              "      <td>78.037282</td>\n",
              "      <td>Black</td>\n",
              "      <td>Low</td>\n",
              "    </tr>\n",
              "    <tr>\n",
              "      <th>4</th>\n",
              "      <td>60.854558</td>\n",
              "      <td>Black</td>\n",
              "      <td>Mid</td>\n",
              "    </tr>\n",
              "    <tr>\n",
              "      <th>5</th>\n",
              "      <td>46.343313</td>\n",
              "      <td>Black</td>\n",
              "      <td>High</td>\n",
              "    </tr>\n",
              "  </tbody>\n",
              "</table>\n",
              "</div>"
            ],
            "text/plain": [
              "   Centipawn Loss  Color  Tier\n",
              "0       75.332370  White   Low\n",
              "1       58.625482  White   Mid\n",
              "2       45.166480  White  High\n",
              "3       78.037282  Black   Low\n",
              "4       60.854558  Black   Mid\n",
              "5       46.343313  Black  High"
            ]
          },
          "execution_count": 13,
          "metadata": {},
          "output_type": "execute_result"
        }
      ],
      "source": [
        "centi_dict = {'Centipawn Loss': [avg_white_low, avg_white_mid, avg_white_high, avg_black_low, avg_black_mid, avg_black_high],\n",
        "              'Color': ['White', 'White','White', 'Black', 'Black', 'Black',],\n",
        "              'Tier': ['Low', 'Mid', 'High', 'Low', 'Mid', 'High']}\n",
        "#df = pd.DataFrame(data=d)\n",
        "centipawn_diff = pd.DataFrame(data=centi_dict)\n",
        "centipawn_diff"
      ]
    },
    {
      "cell_type": "code",
      "execution_count": null,
      "id": "f9358cfa",
      "metadata": {
        "execution": {
          "iopub.execute_input": "2022-02-03T20:05:34.746857Z",
          "iopub.status.busy": "2022-02-03T20:05:34.745678Z",
          "iopub.status.idle": "2022-02-03T20:05:35.147594Z",
          "shell.execute_reply": "2022-02-03T20:05:35.146901Z",
          "shell.execute_reply.started": "2022-02-03T20:04:46.480954Z"
        },
        "papermill": {
          "duration": 0.427829,
          "end_time": "2022-02-03T20:05:35.147744",
          "exception": false,
          "start_time": "2022-02-03T20:05:34.719915",
          "status": "completed"
        },
        "tags": [],
        "id": "f9358cfa",
        "outputId": "2d32a740-0a9e-47d8-f190-c28feb35150f"
      },
      "outputs": [
        {
          "data": {
            "image/png": "[encoded data removed]",
            "text/plain": [
              "<Figure size 503.85x432 with 1 Axes>"
            ]
          },
          "metadata": {},
          "output_type": "display_data"
        }
      ],
      "source": [
        "g = sns.catplot(\n",
        "    data=centipawn_diff, kind=\"bar\",\n",
        "    x=\"Tier\", y=\"Centipawn Loss\", hue=\"Color\",\n",
        "    palette=\"dark\", alpha=.6, height=6\n",
        ")"
      ]
    },
    {
      "cell_type": "code",
      "execution_count": null,
      "id": "6fec8ff6",
      "metadata": {
        "execution": {
          "iopub.execute_input": "2022-02-03T20:05:35.202586Z",
          "iopub.status.busy": "2022-02-03T20:05:35.201830Z",
          "iopub.status.idle": "2022-02-03T20:05:35.206834Z",
          "shell.execute_reply": "2022-02-03T20:05:35.207388Z",
          "shell.execute_reply.started": "2022-02-03T20:04:47.029165Z"
        },
        "papermill": {
          "duration": 0.037007,
          "end_time": "2022-02-03T20:05:35.207589",
          "exception": false,
          "start_time": "2022-02-03T20:05:35.170582",
          "status": "completed"
        },
        "tags": [],
        "id": "6fec8ff6",
        "outputId": "02e2d1aa-3b92-43fd-a18f-e752045df3c4"
      },
      "outputs": [
        {
          "name": "stdout",
          "output_type": "stream",
          "text": [
            "3.2589472554595695\n",
            "1.3256425390352524\n",
            "2.11573751140205\n",
            "3.2832537425551322\n",
            "1.332242313677094\n",
            "2.1182057198046897\n"
          ]
        }
      ],
      "source": [
        "#Centpawn loss for inaccuracy, mistake, blunder\n",
        "#Inaccuracy = not horrible moves but there are better moves that help more\n",
        "#Mistake = moves that give advantage to opponent but not as drastic as blunder\n",
        "#Blunder = unoforgivable errors that can be game-ending is exploited\n",
        "\n",
        "avg_white_cl\n",
        "avg_black_cl\n",
        "\n",
        "avg_white_inaccuracy = chess['White\\'s Number of Inaccuracies'].mean()\n",
        "avg_white_mistake = chess['White\\'s Number of Mistakes'].mean()\n",
        "avg_white_blunder = chess['White\\'s Number of Blunders'].mean()\n",
        "\n",
        "avg_black_inaccuracy = chess['Black\\'s Number of Inaccuracies'].mean()\n",
        "avg_black_mistake = chess['Black\\'s Number of Mistakes'].mean()\n",
        "avg_black_blunder = chess['Black\\'s Number of Blunders'].mean()\n",
        "\n",
        "print(avg_white_inaccuracy)\n",
        "print(avg_white_mistake)\n",
        "print(avg_white_blunder)\n",
        "print(avg_black_inaccuracy)\n",
        "print(avg_black_mistake)\n",
        "print(avg_black_blunder)"
      ]
    },
    {
      "cell_type": "code",
      "execution_count": null,
      "id": "9c54efc7",
      "metadata": {
        "execution": {
          "iopub.execute_input": "2022-02-03T20:05:35.258337Z",
          "iopub.status.busy": "2022-02-03T20:05:35.257512Z",
          "iopub.status.idle": "2022-02-03T20:05:35.271031Z",
          "shell.execute_reply": "2022-02-03T20:05:35.271722Z",
          "shell.execute_reply.started": "2022-02-03T20:04:47.041749Z"
        },
        "papermill": {
          "duration": 0.04134,
          "end_time": "2022-02-03T20:05:35.271957",
          "exception": false,
          "start_time": "2022-02-03T20:05:35.230617",
          "status": "completed"
        },
        "tags": [],
        "id": "9c54efc7",
        "outputId": "6b8333fc-9c0c-414b-8d7f-8d3acee8bb4b"
      },
      "outputs": [
        {
          "data": {
            "text/html": [
              "<div>\n",
              "<style scoped>\n",
              "    .dataframe tbody tr th:only-of-type {\n",
              "        vertical-align: middle;\n",
              "    }\n",
              "\n",
              "    .dataframe tbody tr th {\n",
              "        vertical-align: top;\n",
              "    }\n",
              "\n",
              "    .dataframe thead th {\n",
              "        text-align: right;\n",
              "    }\n",
              "</style>\n",
              "<table border=\"1\" class=\"dataframe\">\n",
              "  <thead>\n",
              "    <tr style=\"text-align: right;\">\n",
              "      <th></th>\n",
              "      <th>Values</th>\n",
              "      <th>Color</th>\n",
              "      <th>Type</th>\n",
              "    </tr>\n",
              "  </thead>\n",
              "  <tbody>\n",
              "    <tr>\n",
              "      <th>0</th>\n",
              "      <td>3.258947</td>\n",
              "      <td>White</td>\n",
              "      <td>Inaccuracy</td>\n",
              "    </tr>\n",
              "    <tr>\n",
              "      <th>1</th>\n",
              "      <td>1.325643</td>\n",
              "      <td>White</td>\n",
              "      <td>Mistake</td>\n",
              "    </tr>\n",
              "    <tr>\n",
              "      <th>2</th>\n",
              "      <td>2.115738</td>\n",
              "      <td>White</td>\n",
              "      <td>Blunder</td>\n",
              "    </tr>\n",
              "    <tr>\n",
              "      <th>3</th>\n",
              "      <td>3.283254</td>\n",
              "      <td>Black</td>\n",
              "      <td>Inaccuracy</td>\n",
              "    </tr>\n",
              "    <tr>\n",
              "      <th>4</th>\n",
              "      <td>1.332242</td>\n",
              "      <td>Black</td>\n",
              "      <td>Mistake</td>\n",
              "    </tr>\n",
              "    <tr>\n",
              "      <th>5</th>\n",
              "      <td>2.118206</td>\n",
              "      <td>Black</td>\n",
              "      <td>Blunder</td>\n",
              "    </tr>\n",
              "  </tbody>\n",
              "</table>\n",
              "</div>"
            ],
            "text/plain": [
              "     Values  Color        Type\n",
              "0  3.258947  White  Inaccuracy\n",
              "1  1.325643  White     Mistake\n",
              "2  2.115738  White     Blunder\n",
              "3  3.283254  Black  Inaccuracy\n",
              "4  1.332242  Black     Mistake\n",
              "5  2.118206  Black     Blunder"
            ]
          },
          "execution_count": 16,
          "metadata": {},
          "output_type": "execute_result"
        }
      ],
      "source": [
        "mist_dict = {'Values': [avg_white_inaccuracy, avg_white_mistake, avg_white_blunder, avg_black_inaccuracy, avg_black_mistake, avg_black_blunder],\n",
        "            'Color': ['White', 'White', 'White', 'Black', 'Black', 'Black'],\n",
        "            'Type': ['Inaccuracy', 'Mistake', 'Blunder', 'Inaccuracy', 'Mistake', 'Blunder']}\n",
        "misplays = pd.DataFrame(data=mist_dict)\n",
        "misplays"
      ]
    },
    {
      "cell_type": "code",
      "execution_count": null,
      "id": "3f6645e8",
      "metadata": {
        "execution": {
          "iopub.execute_input": "2022-02-03T20:05:35.324297Z",
          "iopub.status.busy": "2022-02-03T20:05:35.323468Z",
          "iopub.status.idle": "2022-02-03T20:05:35.711449Z",
          "shell.execute_reply": "2022-02-03T20:05:35.710614Z",
          "shell.execute_reply.started": "2022-02-03T20:04:47.056608Z"
        },
        "papermill": {
          "duration": 0.415666,
          "end_time": "2022-02-03T20:05:35.711621",
          "exception": false,
          "start_time": "2022-02-03T20:05:35.295955",
          "status": "completed"
        },
        "tags": [],
        "id": "3f6645e8",
        "outputId": "86a4110e-0f09-4334-9679-2e0d6d9b3da6"
      },
      "outputs": [
        {
          "data": {
            "image/png": "[encoded data removed]",
            "text/plain": [
              "<Figure size 503.85x432 with 1 Axes>"
            ]
          },
          "metadata": {},
          "output_type": "display_data"
        }
      ],
      "source": [
        "g2 = sns.catplot(\n",
        "    data=misplays, kind=\"bar\",\n",
        "    x=\"Type\", y=\"Values\", hue=\"Color\",\n",
        "    palette=\"dark\", alpha=.6, height=6\n",
        ")\n",
        "\n",
        "#difference is negligible"
      ]
    }
  ],
  "metadata": {
    "kernelspec": {
      "display_name": "Python 3",
      "language": "python",
      "name": "python3"
    },
    "language_info": {
      "codemirror_mode": {
        "name": "ipython",
        "version": 3
      },
      "file_extension": ".py",
      "mimetype": "text/x-python",
      "name": "python",
      "nbconvert_exporter": "python",
      "pygments_lexer": "ipython3",
      "version": "3.7.12"
    },
    "papermill": {
      "default_parameters": {},
      "duration": 16.581893,
      "end_time": "2022-02-03T20:05:36.750518",
      "environment_variables": {},
      "exception": null,
      "input_path": "__notebook__.ipynb",
      "output_path": "__notebook__.ipynb",
      "parameters": {},
      "start_time": "2022-02-03T20:05:20.168625",
      "version": "2.3.3"
    },
    "colab": {
      "provenance": [],
      "include_colab_link": true
    }
  },
  "nbformat": 4,
  "nbformat_minor": 5
}